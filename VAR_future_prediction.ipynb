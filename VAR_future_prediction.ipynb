{
  "nbformat": 4,
  "nbformat_minor": 0,
  "metadata": {
    "colab": {
      "name": "VAR_future prediction.ipynb",
      "provenance": []
    },
    "kernelspec": {
      "name": "python3",
      "display_name": "Python 3"
    }
  },
  "cells": [
    {
      "cell_type": "code",
      "metadata": {
        "id": "j3CdloccqH6T"
      },
      "source": [
        "!pip install pyforest\n",
        "from pyforest import *\n",
        "from matplotlib import pyplot as plt\n",
        "import seaborn as sns\n",
        "from sklearn.ensemble import ExtraTreesRegressor\n",
        "from sklearn.preprocessing import LabelEncoder, StandardScaler\n",
        "from sklearn.model_selection import train_test_split\n",
        "import numpy as np\n",
        "import sklearn.metrics\n",
        "from pylab import rcParams\n",
        "%matplotlib inline\n",
        "pd.set_option('display.max_columns', 500)\n",
        "pd.set_option('display.max_rows', 500)\n",
        "from google.colab import files\n",
        "import pandas_datareader as web\n",
        "import warnings\n",
        "warnings.filterwarnings(\"ignore\")\n",
        "pd.set_option('display.max_rows', 500)\n",
        "pd.set_option('display.max_columns', 500)\n",
        "pd.set_option('display.width', 150)\n",
        "import datetime as dt"
      ],
      "execution_count": null,
      "outputs": []
    },
    {
      "cell_type": "code",
      "metadata": {
        "id": "rHnHyZAgqTbE",
        "colab": {
          "base_uri": "https://localhost:8080/",
          "height": 454
        },
        "outputId": "666fef64-848a-4194-c222-55557e50c14c"
      },
      "source": [
        "stock = ['^RUT', '^GSPC', '^DJI', '^IXIC' ]\n",
        "start = pd.to_datetime('1990-01-03')\n",
        "df = web.DataReader(stock, data_source = 'yahoo', start = start )\n",
        "print(df.tail())"
      ],
      "execution_count": null,
      "outputs": [
        {
          "output_type": "display_data",
          "data": {
            "application/javascript": [
              "\n",
              "        if (window._pyforest_update_imports_cell) { window._pyforest_update_imports_cell('import pandas as pd'); }\n",
              "    "
            ],
            "text/plain": [
              "<IPython.core.display.Javascript object>"
            ]
          },
          "metadata": {
            "tags": []
          }
        },
        {
          "output_type": "stream",
          "text": [
            "Attributes    Adj Close                                                 Close                                                  High               \\\n",
            "Symbols            ^RUT        ^GSPC          ^DJI         ^IXIC         ^RUT        ^GSPC          ^DJI         ^IXIC         ^RUT        ^GSPC   \n",
            "Date                                                                                                                                               \n",
            "2020-09-01  1578.579956  3526.649902  28645.660156  11939.669922  1578.579956  3526.649902  28645.660156  11939.669922  1578.579956  3528.030029   \n",
            "2020-09-02  1592.290039  3580.840088  29100.500000  12056.440430  1592.290039  3580.840088  29100.500000  12056.440430  1595.040039  3588.110107   \n",
            "2020-09-03  1544.680054  3455.060059  28292.730469  11458.099609  1544.680054  3455.060059  28292.730469  11458.099609  1592.469971  3564.850098   \n",
            "2020-09-04  1535.300049  3426.959961  28133.310547  11313.129883  1535.300049  3426.959961  28133.310547  11313.129883  1563.380005  3479.149902   \n",
            "2020-09-08  1504.589966  3331.840088  27500.890625  10847.690430  1504.589966  3331.840088  27500.890625  10847.690430  1534.369995  3379.969971   \n",
            "\n",
            "Attributes                                      Low                                                  Open                                           \\\n",
            "Symbols             ^DJI         ^IXIC         ^RUT        ^GSPC          ^DJI         ^IXIC         ^RUT        ^GSPC          ^DJI         ^IXIC   \n",
            "Date                                                                                                                                                 \n",
            "2020-09-01  28659.259766  11945.719727  1554.189941  3494.600098  28290.720703  11794.780273  1561.099976  3507.439941  28439.609375  11850.959961   \n",
            "2020-09-02  29162.880859  12074.059570  1567.430054  3535.229980  28713.529297  11836.179688  1578.780029  3543.760010  28736.789062  12047.259766   \n",
            "2020-09-03  29199.349609  11894.400391  1538.530029  3427.409912  28074.759766  11361.360352  1592.469971  3564.739990  29090.699219  11861.900391   \n",
            "2020-09-04  28539.750000  11531.179688  1501.520020  3349.629883  27664.679688  10875.870117  1546.640015  3453.600098  28341.050781  11396.240234   \n",
            "2020-09-08  27925.230469  11131.500000  1499.829956  3329.270020  27464.900391  10837.200195  1534.369995  3371.879883  27925.230469  10900.700195   \n",
            "\n",
            "Attributes    Volume                                     \n",
            "Symbols         ^RUT       ^GSPC       ^DJI       ^IXIC  \n",
            "Date                                                     \n",
            "2020-09-01  40831100  4083110000  423410000  3480780000  \n",
            "2020-09-02  42851900  4285190000  539510000  3966140000  \n",
            "2020-09-03  48986800  4898680000  650080000  4437500000  \n",
            "2020-09-04  44314400  4431440000  694640000  4269190000  \n",
            "2020-09-08  46656000  4665600000  580860000  3872230000  \n"
          ],
          "name": "stdout"
        }
      ]
    },
    {
      "cell_type": "code",
      "metadata": {
        "id": "f8xWEuqmq6mD",
        "colab": {
          "base_uri": "https://localhost:8080/",
          "height": 225
        },
        "outputId": "65c987af-bd95-415e-d7c6-ad0c23789c76"
      },
      "source": [
        "data = df['Adj Close']\n",
        "data.tail()"
      ],
      "execution_count": null,
      "outputs": [
        {
          "output_type": "execute_result",
          "data": {
            "text/html": [
              "<div>\n",
              "<style scoped>\n",
              "    .dataframe tbody tr th:only-of-type {\n",
              "        vertical-align: middle;\n",
              "    }\n",
              "\n",
              "    .dataframe tbody tr th {\n",
              "        vertical-align: top;\n",
              "    }\n",
              "\n",
              "    .dataframe thead th {\n",
              "        text-align: right;\n",
              "    }\n",
              "</style>\n",
              "<table border=\"1\" class=\"dataframe\">\n",
              "  <thead>\n",
              "    <tr style=\"text-align: right;\">\n",
              "      <th>Symbols</th>\n",
              "      <th>^RUT</th>\n",
              "      <th>^GSPC</th>\n",
              "      <th>^DJI</th>\n",
              "      <th>^IXIC</th>\n",
              "    </tr>\n",
              "    <tr>\n",
              "      <th>Date</th>\n",
              "      <th></th>\n",
              "      <th></th>\n",
              "      <th></th>\n",
              "      <th></th>\n",
              "    </tr>\n",
              "  </thead>\n",
              "  <tbody>\n",
              "    <tr>\n",
              "      <th>2020-09-01</th>\n",
              "      <td>1578.579956</td>\n",
              "      <td>3526.649902</td>\n",
              "      <td>28645.660156</td>\n",
              "      <td>11939.669922</td>\n",
              "    </tr>\n",
              "    <tr>\n",
              "      <th>2020-09-02</th>\n",
              "      <td>1592.290039</td>\n",
              "      <td>3580.840088</td>\n",
              "      <td>29100.500000</td>\n",
              "      <td>12056.440430</td>\n",
              "    </tr>\n",
              "    <tr>\n",
              "      <th>2020-09-03</th>\n",
              "      <td>1544.680054</td>\n",
              "      <td>3455.060059</td>\n",
              "      <td>28292.730469</td>\n",
              "      <td>11458.099609</td>\n",
              "    </tr>\n",
              "    <tr>\n",
              "      <th>2020-09-04</th>\n",
              "      <td>1535.300049</td>\n",
              "      <td>3426.959961</td>\n",
              "      <td>28133.310547</td>\n",
              "      <td>11313.129883</td>\n",
              "    </tr>\n",
              "    <tr>\n",
              "      <th>2020-09-08</th>\n",
              "      <td>1504.589966</td>\n",
              "      <td>3331.840088</td>\n",
              "      <td>27500.890625</td>\n",
              "      <td>10847.690430</td>\n",
              "    </tr>\n",
              "  </tbody>\n",
              "</table>\n",
              "</div>"
            ],
            "text/plain": [
              "Symbols            ^RUT        ^GSPC          ^DJI         ^IXIC\n",
              "Date                                                            \n",
              "2020-09-01  1578.579956  3526.649902  28645.660156  11939.669922\n",
              "2020-09-02  1592.290039  3580.840088  29100.500000  12056.440430\n",
              "2020-09-03  1544.680054  3455.060059  28292.730469  11458.099609\n",
              "2020-09-04  1535.300049  3426.959961  28133.310547  11313.129883\n",
              "2020-09-08  1504.589966  3331.840088  27500.890625  10847.690430"
            ]
          },
          "metadata": {
            "tags": []
          },
          "execution_count": 3
        }
      ]
    },
    {
      "cell_type": "markdown",
      "metadata": {
        "id": "_rBUG8W3uzXi"
      },
      "source": [
        "These time-series we can visually compare in one chart after applying normalisation as follows:"
      ]
    },
    {
      "cell_type": "code",
      "metadata": {
        "id": "HVt_aFr7tSPX",
        "colab": {
          "base_uri": "https://localhost:8080/",
          "height": 374
        },
        "outputId": "ab395fd5-e875-40c5-9948-dd85afff0610"
      },
      "source": [
        "from sklearn.preprocessing import MinMaxScaler\n",
        " \n",
        "scaler = MinMaxScaler(feature_range=(0, 1))\n",
        "sdf_np = scaler.fit_transform(data)  # note: scaler converts df into numpy array\n",
        "sdf = pd.DataFrame(sdf_np, columns=data.columns, index=data.index)\n",
        " \n",
        "plt.figure(figsize=(12,6))\n",
        "plt.grid()\n",
        "plt.plot(sdf)\n",
        "plt.legend(sdf.columns)\n",
        "plt.show()"
      ],
      "execution_count": null,
      "outputs": [
        {
          "output_type": "display_data",
          "data": {
            "application/javascript": [
              "\n",
              "        if (window._pyforest_update_imports_cell) { window._pyforest_update_imports_cell('import bokeh\\nimport pydot\\nimport altair as alt\\nimport plotly as py\\nimport pickle\\nimport plotly.express as px\\nimport pandas as pd'); }\n",
              "    "
            ],
            "text/plain": [
              "<IPython.core.display.Javascript object>"
            ]
          },
          "metadata": {
            "tags": []
          }
        },
        {
          "output_type": "display_data",
          "data": {
            "image/png": "[encoded data removed]",
            "text/plain": [
              "<Figure size 864x432 with 1 Axes>"
            ]
          },
          "metadata": {
            "tags": [],
            "needs_background": "light"
          }
        }
      ]
    },
    {
      "cell_type": "markdown",
      "metadata": {
        "id": "mjRASz2-u6aN"
      },
      "source": [
        "A motivation for the selection of RUT, DJI and IXIC is their pretty high correlation with GSPC. We can diagnose this by measuring the average linear correlation over the rolling window in a function of rolling window size:"
      ]
    },
    {
      "cell_type": "code",
      "metadata": {
        "id": "UB-GedKKtiB-",
        "colab": {
          "base_uri": "https://localhost:8080/",
          "height": 282
        },
        "outputId": "2d7ddc07-d482-488d-811d-f3b9f4546aaf"
      },
      "source": [
        "blue, orange, red = '#1f77b4', '#ff7f0e', '#d62728'  # color codes\n",
        " \n",
        "plt.figure(figsize=(12,4))\n",
        "plt.grid()\n",
        " \n",
        "avg_corr1, avg_corr2, avg_corr3 = list(), list(), list()\n",
        " \n",
        "# average correlation for increasing rolling window size\n",
        "for win in range(5, 20):  # Days\n",
        "    avg_corr1.append(data['^GSPC'].rolling(win).corr(data['^RUT']) \\\n",
        "                     .replace([np.inf, -np.inf], np.nan).dropna().mean())\n",
        "    avg_corr2.append(data['^DJI'].rolling(win).corr(data['^RUT']) \\\n",
        "                     .replace([np.inf, -np.inf], np.nan).dropna().mean())\n",
        "    avg_corr3.append(data['^IXIC'].rolling(win).corr(data['^RUT']) \\\n",
        "                     .replace([np.inf, -np.inf], np.nan).dropna().mean())\n",
        "    \n",
        "plt.plot(range(5, 20), avg_corr1, '.-', color=blue, label='RUT vs GSPC')\n",
        "plt.plot(range(5, 20), avg_corr2, '.-', color=orange, label='DJI vs RUT')\n",
        "plt.plot(range(5, 20), avg_corr3, '.-', color=red, label='IXIC vs RUT')\n",
        " \n",
        "plt.legend()\n",
        "plt.xlabel('Rolling Window Length [Days]', fontsize=12)\n",
        "plt.ylabel('Average Correlation', fontsize=12)\n",
        "plt.show()"
      ],
      "execution_count": null,
      "outputs": [
        {
          "output_type": "display_data",
          "data": {
            "image/png": "[encoded data removed]",
            "text/plain": [
              "<Figure size 864x288 with 1 Axes>"
            ]
          },
          "metadata": {
            "tags": [],
            "needs_background": "light"
          }
        }
      ]
    },
    {
      "cell_type": "code",
      "metadata": {
        "id": "hXsfUHeK5Ysn",
        "colab": {
          "base_uri": "https://localhost:8080/",
          "height": 756
        },
        "outputId": "caf71c52-ecba-4596-e510-b3c78c815888"
      },
      "source": [
        "from statsmodels.tsa.stattools import adfuller\n",
        "\n",
        "def adfuller_test(series, signif=0.05, name='', verbose=False):\n",
        "    \"\"\"Perform ADFuller to test for Stationarity of given series and print report\"\"\"\n",
        "    r = adfuller(series, autolag='AIC')\n",
        "    output = {'test_statistic':round(r[0], 4), 'pvalue':round(r[1], 4), 'n_lags':round(r[2], 4), 'n_obs':r[3]}\n",
        "    p_value = output['pvalue'] \n",
        "    def adjust(val, length= 6): return str(val).ljust(length)\n",
        "\n",
        "    # Print Summary\n",
        "    print(f'Augmented Dickey-Fuller Test on \"{name}\"', \"\\n   \", '-'*47)\n",
        "    print(f'Null Hypothesis: Data has unit root. Non-Stationary.')\n",
        "    print(f'Significance Level = {signif}')\n",
        "    print(f'Test Statistic = {output[\"test_statistic\"]}')\n",
        "    print(f'No. Lags Chosen = {output[\"n_lags\"]}')\n",
        "\n",
        "    for key,val in r[4].items():\n",
        "        print(f' Critical value {adjust(key)} = {round(val, 3)}')\n",
        "\n",
        "    if p_value <= signif:\n",
        "        print(f\" => P-Value = {p_value}. Rejecting Null Hypothesis.\")\n",
        "        print(f\" => Series is Stationary.\")\n",
        "    else:\n",
        "        print(f\" => P-Value = {p_value}. Weak evidence to reject the Null Hypothesis.\")\n",
        "        print(f\" => Series is Non-Stationary.\")\n",
        "\n",
        "\n",
        "# ADF test on each column\n",
        "for name, column in data.iteritems():\n",
        "  adfuller_test(column, name = column.name)"
      ],
      "execution_count": null,
      "outputs": [
        {
          "output_type": "stream",
          "text": [
            "Augmented Dickey-Fuller Test on \"^RUT\" \n",
            "    -----------------------------------------------\n",
            "Null Hypothesis: Data has unit root. Non-Stationary.\n",
            "Significance Level = 0.05\n",
            "Test Statistic = -0.4536\n",
            "No. Lags Chosen = 35\n",
            " Critical value 1%     = -3.431\n",
            " Critical value 5%     = -2.862\n",
            " Critical value 10%    = -2.567\n",
            " => P-Value = 0.9008. Weak evidence to reject the Null Hypothesis.\n",
            " => Series is Non-Stationary.\n",
            "Augmented Dickey-Fuller Test on \"^GSPC\" \n",
            "    -----------------------------------------------\n",
            "Null Hypothesis: Data has unit root. Non-Stationary.\n",
            "Significance Level = 0.05\n",
            "Test Statistic = 0.9694\n",
            "No. Lags Chosen = 36\n",
            " Critical value 1%     = -3.431\n",
            " Critical value 5%     = -2.862\n",
            " Critical value 10%    = -2.567\n",
            " => P-Value = 0.9939. Weak evidence to reject the Null Hypothesis.\n",
            " => Series is Non-Stationary.\n",
            "Augmented Dickey-Fuller Test on \"^DJI\" \n",
            "    -----------------------------------------------\n",
            "Null Hypothesis: Data has unit root. Non-Stationary.\n",
            "Significance Level = 0.05\n",
            "Test Statistic = 0.4495\n",
            "No. Lags Chosen = 36\n",
            " Critical value 1%     = -3.431\n",
            " Critical value 5%     = -2.862\n",
            " Critical value 10%    = -2.567\n",
            " => P-Value = 0.9833. Weak evidence to reject the Null Hypothesis.\n",
            " => Series is Non-Stationary.\n",
            "Augmented Dickey-Fuller Test on \"^IXIC\" \n",
            "    -----------------------------------------------\n",
            "Null Hypothesis: Data has unit root. Non-Stationary.\n",
            "Significance Level = 0.05\n",
            "Test Statistic = 2.2353\n",
            "No. Lags Chosen = 36\n",
            " Critical value 1%     = -3.431\n",
            " Critical value 5%     = -2.862\n",
            " Critical value 10%    = -2.567\n",
            " => P-Value = 0.9989. Weak evidence to reject the Null Hypothesis.\n",
            " => Series is Non-Stationary.\n"
          ],
          "name": "stdout"
        }
      ]
    },
    {
      "cell_type": "code",
      "metadata": {
        "id": "FpBl6_gG7_NP",
        "colab": {
          "base_uri": "https://localhost:8080/",
          "height": 538
        },
        "outputId": "058a9b5c-7679-4b6e-9704-f6614b6c3b30"
      },
      "source": [
        "nobs = 10\n",
        "\n",
        "# differenced train data\n",
        "data_diff = data.diff()\n",
        "data_diff.dropna(inplace=True)\n",
        "print('Glimpse of differenced data:')\n",
        "print(data_diff.head())\n",
        "\n",
        "# plotting differenced data\n",
        "data_diff.plot(figsize=(10,6), linewidth=5, fontsize=20)\n",
        "plt.title('Differenced data')\n",
        "plt.show()"
      ],
      "execution_count": null,
      "outputs": [
        {
          "output_type": "stream",
          "text": [
            "Glimpse of differenced data:\n",
            "Symbols         ^RUT     ^GSPC       ^DJI     ^IXIC\n",
            "Date                                               \n",
            "1990-01-04 -0.699997 -3.089996 -13.649902 -1.500000\n",
            "1990-01-05 -0.440002 -3.470001 -22.830078 -1.199982\n",
            "1990-01-08 -0.099991  1.589996  21.120117  0.500000\n",
            "1990-01-09 -0.250000 -4.170013 -28.370117 -1.900024\n",
            "1990-01-10 -1.360001 -2.309998 -15.360107 -6.099976\n"
          ],
          "name": "stdout"
        },
        {
          "output_type": "display_data",
          "data": {
            "image/png": "[encoded data removed]",
            "text/plain": [
              "<Figure size 720x432 with 1 Axes>"
            ]
          },
          "metadata": {
            "tags": [],
            "needs_background": "light"
          }
        }
      ]
    },
    {
      "cell_type": "code",
      "metadata": {
        "id": "35Vdm4Bk83OF",
        "colab": {
          "base_uri": "https://localhost:8080/",
          "height": 756
        },
        "outputId": "e95de90e-0b65-4ba5-e05e-6ef44a90c80f"
      },
      "source": [
        "# ADF Test on each column\n",
        "for name, column in data_diff.iteritems():\n",
        "  adfuller_test(column, name=column.name)"
      ],
      "execution_count": null,
      "outputs": [
        {
          "output_type": "stream",
          "text": [
            "Augmented Dickey-Fuller Test on \"^RUT\" \n",
            "    -----------------------------------------------\n",
            "Null Hypothesis: Data has unit root. Non-Stationary.\n",
            "Significance Level = 0.05\n",
            "Test Statistic = -15.9429\n",
            "No. Lags Chosen = 34\n",
            " Critical value 1%     = -3.431\n",
            " Critical value 5%     = -2.862\n",
            " Critical value 10%    = -2.567\n",
            " => P-Value = 0.0. Rejecting Null Hypothesis.\n",
            " => Series is Stationary.\n",
            "Augmented Dickey-Fuller Test on \"^GSPC\" \n",
            "    -----------------------------------------------\n",
            "Null Hypothesis: Data has unit root. Non-Stationary.\n",
            "Significance Level = 0.05\n",
            "Test Statistic = -15.8147\n",
            "No. Lags Chosen = 35\n",
            " Critical value 1%     = -3.431\n",
            " Critical value 5%     = -2.862\n",
            " Critical value 10%    = -2.567\n",
            " => P-Value = 0.0. Rejecting Null Hypothesis.\n",
            " => Series is Stationary.\n",
            "Augmented Dickey-Fuller Test on \"^DJI\" \n",
            "    -----------------------------------------------\n",
            "Null Hypothesis: Data has unit root. Non-Stationary.\n",
            "Significance Level = 0.05\n",
            "Test Statistic = -15.8812\n",
            "No. Lags Chosen = 35\n",
            " Critical value 1%     = -3.431\n",
            " Critical value 5%     = -2.862\n",
            " Critical value 10%    = -2.567\n",
            " => P-Value = 0.0. Rejecting Null Hypothesis.\n",
            " => Series is Stationary.\n",
            "Augmented Dickey-Fuller Test on \"^IXIC\" \n",
            "    -----------------------------------------------\n",
            "Null Hypothesis: Data has unit root. Non-Stationary.\n",
            "Significance Level = 0.05\n",
            "Test Statistic = -14.8464\n",
            "No. Lags Chosen = 36\n",
            " Critical value 1%     = -3.431\n",
            " Critical value 5%     = -2.862\n",
            " Critical value 10%    = -2.567\n",
            " => P-Value = 0.0. Rejecting Null Hypothesis.\n",
            " => Series is Stationary.\n"
          ],
          "name": "stdout"
        }
      ]
    },
    {
      "cell_type": "code",
      "metadata": {
        "id": "1VyCwKXO9fdR"
      },
      "source": [
        "import statsmodels.formula.api as smf\n",
        "import statsmodels.tsa.api as smt\n",
        "import statsmodels.api as sm\n",
        "from scipy.stats import describe\n",
        "from statsmodels.tsa.api import VAR"
      ],
      "execution_count": null,
      "outputs": []
    },
    {
      "cell_type": "code",
      "metadata": {
        "id": "3jWoEiil9Cbp",
        "colab": {
          "base_uri": "https://localhost:8080/",
          "height": 370
        },
        "outputId": "3fd8ae58-6601-4c2a-a463-a8a4e4b6054d"
      },
      "source": [
        "var_model = smt.VAR(data_diff)\n",
        "res = var_model.select_order(maxlags=15)\n",
        "print(res.summary())"
      ],
      "execution_count": null,
      "outputs": [
        {
          "output_type": "stream",
          "text": [
            " VAR Order Selection (* highlights the minimums)  \n",
            "==================================================\n",
            "       AIC         BIC         FPE         HQIC   \n",
            "--------------------------------------------------\n",
            "0        22.29       22.29   4.778e+09       22.29\n",
            "1        22.26      22.27*   4.630e+09       22.26\n",
            "2        22.24       22.28   4.570e+09       22.25\n",
            "3        22.24       22.28   4.545e+09       22.25\n",
            "4        22.23       22.29   4.521e+09       22.25\n",
            "5        22.23       22.31   4.516e+09       22.26\n",
            "6        22.22       22.31   4.467e+09       22.25\n",
            "7        22.20       22.31   4.391e+09       22.24\n",
            "8        22.19       22.31   4.329e+09       22.23\n",
            "9        22.18       22.31   4.293e+09      22.23*\n",
            "10       22.18       22.32   4.276e+09       22.23\n",
            "11       22.18       22.34   4.281e+09       22.23\n",
            "12       22.17       22.35   4.257e+09       22.23\n",
            "13       22.17       22.36   4.245e+09       22.23\n",
            "14       22.17       22.37   4.235e+09       22.24\n",
            "15      22.16*       22.38  4.226e+09*       22.24\n",
            "--------------------------------------------------\n"
          ],
          "name": "stdout"
        }
      ]
    },
    {
      "cell_type": "code",
      "metadata": {
        "id": "5Is7ywGN_dRs",
        "colab": {
          "base_uri": "https://localhost:8080/",
          "height": 1000
        },
        "outputId": "3167736e-768b-4a80-b5ad-353dbf4e3a2d"
      },
      "source": [
        "results = var_model.fit(maxlags=15, ic='aic')\n",
        "results.summary()"
      ],
      "execution_count": null,
      "outputs": [
        {
          "output_type": "execute_result",
          "data": {
            "text/plain": [
              "  Summary of Regression Results   \n",
              "==================================\n",
              "Model:                         VAR\n",
              "Method:                        OLS\n",
              "Date:           Wed, 09, Sep, 2020\n",
              "Time:                     11:17:06\n",
              "--------------------------------------------------------------------\n",
              "No. of Equations:         4.00000    BIC:                    22.3843\n",
              "Nobs:                     7715.00    HQIC:                   22.2398\n",
              "Log likelihood:          -129044.    FPE:                4.22565e+09\n",
              "AIC:                      22.1644    Det(Omega_mle):     4.09460e+09\n",
              "--------------------------------------------------------------------\n",
              "Results for equation ^RUT\n",
              "============================================================================\n",
              "               coefficient       std. error           t-stat            prob\n",
              "----------------------------------------------------------------------------\n",
              "const             0.162300         0.120354            1.349           0.177\n",
              "L1.^RUT           0.060165         0.023380            2.573           0.010\n",
              "L1.^GSPC         -0.092105         0.042046           -2.191           0.028\n",
              "L1.^DJI          -0.000647         0.003580           -0.181           0.857\n",
              "L1.^IXIC          0.005776         0.006136            0.941           0.347\n",
              "L2.^RUT           0.014123         0.023414            0.603           0.546\n",
              "L2.^GSPC         -0.083013         0.042085           -1.973           0.049\n",
              "L2.^DJI           0.009107         0.003586            2.540           0.011\n",
              "L2.^IXIC          0.010890         0.006136            1.775           0.076\n",
              "L3.^RUT           0.024934         0.023455            1.063           0.288\n",
              "L3.^GSPC         -0.020432         0.042123           -0.485           0.628\n",
              "L3.^DJI          -0.000468         0.003591           -0.130           0.896\n",
              "L3.^IXIC          0.003472         0.006196            0.560           0.575\n",
              "L4.^RUT          -0.012209         0.023495           -0.520           0.603\n",
              "L4.^GSPC         -0.103665         0.042170           -2.458           0.014\n",
              "L4.^DJI           0.006989         0.003594            1.945           0.052\n",
              "L4.^IXIC          0.014318         0.006188            2.314           0.021\n",
              "L5.^RUT          -0.013757         0.023500           -0.585           0.558\n",
              "L5.^GSPC          0.002040         0.042198            0.048           0.961\n",
              "L5.^DJI          -0.001545         0.003596           -0.430           0.667\n",
              "L5.^IXIC          0.005409         0.006201            0.872           0.383\n",
              "L6.^RUT           0.066747         0.023507            2.839           0.005\n",
              "L6.^GSPC          0.083481         0.042140            1.981           0.048\n",
              "L6.^DJI          -0.009315         0.003595           -2.591           0.010\n",
              "L6.^IXIC         -0.028175         0.006189           -4.553           0.000\n",
              "L7.^RUT          -0.053425         0.023516           -2.272           0.023\n",
              "L7.^GSPC         -0.032906         0.042160           -0.781           0.435\n",
              "L7.^DJI           0.005215         0.003597            1.450           0.147\n",
              "L7.^IXIC          0.022795         0.006196            3.679           0.000\n",
              "L8.^RUT           0.071406         0.023511            3.037           0.002\n",
              "L8.^GSPC          0.024234         0.042213            0.574           0.566\n",
              "L8.^DJI          -0.003194         0.003600           -0.887           0.375\n",
              "L8.^IXIC         -0.021778         0.006204           -3.510           0.000\n",
              "L9.^RUT          -0.068015         0.023603           -2.882           0.004\n",
              "L9.^GSPC         -0.068934         0.042225           -1.633           0.103\n",
              "L9.^DJI           0.013101         0.003600            3.639           0.000\n",
              "L9.^IXIC          0.010341         0.006202            1.667           0.095\n",
              "L10.^RUT          0.030262         0.023609            1.282           0.200\n",
              "L10.^GSPC        -0.024509         0.042256           -0.580           0.562\n",
              "L10.^DJI         -0.001661         0.003607           -0.461           0.645\n",
              "L10.^IXIC         0.009805         0.006204            1.580           0.114\n",
              "L11.^RUT          0.019371         0.023598            0.821           0.412\n",
              "L11.^GSPC        -0.014060         0.042265           -0.333           0.739\n",
              "L11.^DJI          0.000754         0.003605            0.209           0.834\n",
              "L11.^IXIC         0.002107         0.006212            0.339           0.734\n",
              "L12.^RUT         -0.054367         0.023624           -2.301           0.021\n",
              "L12.^GSPC        -0.014254         0.042207           -0.338           0.736\n",
              "L12.^DJI          0.002469         0.003607            0.685           0.494\n",
              "L12.^IXIC         0.020206         0.006209            3.254           0.001\n",
              "L13.^RUT          0.042294         0.023606            1.792           0.073\n",
              "L13.^GSPC         0.000037         0.042234            0.001           0.999\n",
              "L13.^DJI         -0.002492         0.003607           -0.691           0.490\n",
              "L13.^IXIC        -0.006123         0.006232           -0.983           0.326\n",
              "L14.^RUT         -0.059560         0.023599           -2.524           0.012\n",
              "L14.^GSPC         0.089830         0.042152            2.131           0.033\n",
              "L14.^DJI         -0.004902         0.003597           -1.363           0.173\n",
              "L14.^IXIC        -0.006945         0.006231           -1.115           0.265\n",
              "L15.^RUT         -0.033021         0.023619           -1.398           0.162\n",
              "L15.^GSPC        -0.072005         0.042181           -1.707           0.088\n",
              "L15.^DJI          0.004732         0.003598            1.315           0.188\n",
              "L15.^IXIC         0.012731         0.006231            2.043           0.041\n",
              "============================================================================\n",
              "\n",
              "Results for equation ^GSPC\n",
              "============================================================================\n",
              "               coefficient       std. error           t-stat            prob\n",
              "----------------------------------------------------------------------------\n",
              "const             0.423904         0.191515            2.213           0.027\n",
              "L1.^RUT           0.154411         0.037204            4.150           0.000\n",
              "L1.^GSPC         -0.126535         0.066906           -1.891           0.059\n",
              "L1.^DJI          -0.007750         0.005696           -1.361           0.174\n",
              "L1.^IXIC         -0.000222         0.009765           -0.023           0.982\n",
              "L2.^RUT           0.034884         0.037258            0.936           0.349\n",
              "L2.^GSPC         -0.168477         0.066968           -2.516           0.012\n",
              "L2.^DJI           0.015370         0.005706            2.694           0.007\n",
              "L2.^IXIC          0.020184         0.009765            2.067           0.039\n",
              "L3.^RUT           0.125169         0.037324            3.354           0.001\n",
              "L3.^GSPC         -0.154009         0.067029           -2.298           0.022\n",
              "L3.^DJI           0.009910         0.005714            1.734           0.083\n",
              "L3.^IXIC          0.006945         0.009860            0.704           0.481\n",
              "L4.^RUT           0.025854         0.037387            0.692           0.489\n",
              "L4.^GSPC         -0.140979         0.067103           -2.101           0.036\n",
              "L4.^DJI           0.007335         0.005719            1.283           0.200\n",
              "L4.^IXIC          0.007605         0.009847            0.772           0.440\n",
              "L5.^RUT           0.003912         0.037395            0.105           0.917\n",
              "L5.^GSPC          0.012695         0.067148            0.189           0.850\n",
              "L5.^DJI          -0.002003         0.005723           -0.350           0.726\n",
              "L5.^IXIC         -0.003848         0.009868           -0.390           0.697\n",
              "L6.^RUT           0.075978         0.037406            2.031           0.042\n",
              "L6.^GSPC          0.118259         0.067056            1.764           0.078\n",
              "L6.^DJI          -0.015224         0.005720           -2.661           0.008\n",
              "L6.^IXIC         -0.030668         0.009848           -3.114           0.002\n",
              "L7.^RUT          -0.069959         0.037420           -1.870           0.062\n",
              "L7.^GSPC         -0.129249         0.067087           -1.927           0.054\n",
              "L7.^DJI           0.013447         0.005724            2.349           0.019\n",
              "L7.^IXIC          0.047427         0.009860            4.810           0.000\n",
              "L8.^RUT           0.137144         0.037412            3.666           0.000\n",
              "L8.^GSPC          0.023087         0.067173            0.344           0.731\n",
              "L8.^DJI          -0.004394         0.005728           -0.767           0.443\n",
              "L8.^IXIC         -0.043248         0.009872           -4.381           0.000\n",
              "L9.^RUT          -0.140275         0.037559           -3.735           0.000\n",
              "L9.^GSPC         -0.102959         0.067190           -1.532           0.125\n",
              "L9.^DJI           0.022149         0.005729            3.866           0.000\n",
              "L9.^IXIC          0.021767         0.009869            2.206           0.027\n",
              "L10.^RUT          0.049060         0.037568            1.306           0.192\n",
              "L10.^GSPC         0.053343         0.067241            0.793           0.428\n",
              "L10.^DJI         -0.009926         0.005739           -1.729           0.084\n",
              "L10.^IXIC         0.001130         0.009872            0.114           0.909\n",
              "L11.^RUT          0.035403         0.037551            0.943           0.346\n",
              "L11.^GSPC        -0.018525         0.067255           -0.275           0.783\n",
              "L11.^DJI         -0.002090         0.005737           -0.364           0.716\n",
              "L11.^IXIC         0.006385         0.009885            0.646           0.518\n",
              "L12.^RUT         -0.075408         0.037592           -2.006           0.045\n",
              "L12.^GSPC        -0.108528         0.067163           -1.616           0.106\n",
              "L12.^DJI          0.009565         0.005740            1.666           0.096\n",
              "L12.^IXIC         0.042675         0.009880            4.319           0.000\n",
              "L13.^RUT          0.083562         0.037564            2.225           0.026\n",
              "L13.^GSPC         0.111949         0.067205            1.666           0.096\n",
              "L13.^DJI         -0.014173         0.005740           -2.469           0.014\n",
              "L13.^IXIC        -0.020790         0.009916           -2.096           0.036\n",
              "L14.^RUT         -0.067096         0.037552           -1.787           0.074\n",
              "L14.^GSPC         0.105784         0.067074            1.577           0.115\n",
              "L14.^DJI         -0.003273         0.005724           -0.572           0.568\n",
              "L14.^IXIC        -0.014621         0.009915           -1.475           0.140\n",
              "L15.^RUT         -0.085461         0.037584           -2.274           0.023\n",
              "L15.^GSPC        -0.053590         0.067121           -0.798           0.425\n",
              "L15.^DJI          0.003132         0.005725            0.547           0.584\n",
              "L15.^IXIC         0.012572         0.009915            1.268           0.205\n",
              "============================================================================\n",
              "\n",
              "Results for equation ^DJI\n",
              "============================================================================\n",
              "               coefficient       std. error           t-stat            prob\n",
              "----------------------------------------------------------------------------\n",
              "const             3.475304         1.684021            2.064           0.039\n",
              "L1.^RUT           1.470925         0.327141            4.496           0.000\n",
              "L1.^GSPC         -1.571387         0.588317           -2.671           0.008\n",
              "L1.^DJI          -0.014243         0.050090           -0.284           0.776\n",
              "L1.^IXIC         -0.013857         0.085861           -0.161           0.872\n",
              "L2.^RUT           0.366404         0.327611            1.118           0.263\n",
              "L2.^GSPC         -1.941327         0.588860           -3.297           0.001\n",
              "L2.^DJI           0.154517         0.050176            3.079           0.002\n",
              "L2.^IXIC          0.307002         0.085861            3.576           0.000\n",
              "L3.^RUT           1.175684         0.328192            3.582           0.000\n",
              "L3.^GSPC         -1.100930         0.589393           -1.868           0.062\n",
              "L3.^DJI           0.058559         0.050242            1.166           0.244\n",
              "L3.^IXIC          0.047887         0.086697            0.552           0.581\n",
              "L4.^RUT           0.227248         0.328752            0.691           0.489\n",
              "L4.^GSPC         -1.374255         0.590046           -2.329           0.020\n",
              "L4.^DJI           0.066576         0.050284            1.324           0.186\n",
              "L4.^IXIC          0.113150         0.086583            1.307           0.191\n",
              "L5.^RUT          -0.042471         0.328819           -0.129           0.897\n",
              "L5.^GSPC          0.487457         0.590444            0.826           0.409\n",
              "L5.^DJI          -0.056142         0.050321           -1.116           0.265\n",
              "L5.^IXIC         -0.022235         0.086770           -0.256           0.798\n",
              "L6.^RUT           0.592013         0.328915            1.800           0.072\n",
              "L6.^GSPC          1.172315         0.589635            1.988           0.047\n",
              "L6.^DJI          -0.152253         0.050299           -3.027           0.002\n",
              "L6.^IXIC         -0.244881         0.086596           -2.828           0.005\n",
              "L7.^RUT          -0.633087         0.329039           -1.924           0.054\n",
              "L7.^GSPC         -0.503943         0.589909           -0.854           0.393\n",
              "L7.^DJI           0.087137         0.050328            1.731           0.083\n",
              "L7.^IXIC          0.313628         0.086699            3.617           0.000\n",
              "L8.^RUT           1.033416         0.328970            3.141           0.002\n",
              "L8.^GSPC          0.370430         0.590658            0.627           0.531\n",
              "L8.^DJI          -0.047883         0.050369           -0.951           0.342\n",
              "L8.^IXIC         -0.365755         0.086808           -4.213           0.000\n",
              "L9.^RUT          -1.139409         0.330262           -3.450           0.001\n",
              "L9.^GSPC         -0.459100         0.590815           -0.777           0.437\n",
              "L9.^DJI           0.157235         0.050374            3.121           0.002\n",
              "L9.^IXIC          0.112048         0.086779            1.291           0.197\n",
              "L10.^RUT          0.520865         0.330337            1.577           0.115\n",
              "L10.^GSPC         0.497295         0.591258            0.841           0.400\n",
              "L10.^DJI         -0.093997         0.050466           -1.863           0.063\n",
              "L10.^IXIC        -0.010254         0.086804           -0.118           0.906\n",
              "L11.^RUT          0.243527         0.330193            0.738           0.461\n",
              "L11.^GSPC        -0.077249         0.591386           -0.131           0.896\n",
              "L11.^DJI         -0.017610         0.050444           -0.349           0.727\n",
              "L11.^IXIC         0.019964         0.086922            0.230           0.818\n",
              "L12.^RUT         -0.446390         0.330553           -1.350           0.177\n",
              "L12.^GSPC        -0.744782         0.590575           -1.261           0.207\n",
              "L12.^DJI          0.057461         0.050473            1.138           0.255\n",
              "L12.^IXIC         0.317164         0.086877            3.651           0.000\n",
              "L13.^RUT          0.804440         0.330302            2.435           0.015\n",
              "L13.^GSPC         0.752891         0.590946            1.274           0.203\n",
              "L13.^DJI         -0.097074         0.050477           -1.923           0.054\n",
              "L13.^IXIC        -0.194356         0.087197           -2.229           0.026\n",
              "L14.^RUT         -0.639752         0.330198           -1.937           0.053\n",
              "L14.^GSPC         1.198522         0.589792            2.032           0.042\n",
              "L14.^DJI         -0.057445         0.050333           -1.141           0.254\n",
              "L14.^IXIC        -0.104226         0.087180           -1.196           0.232\n",
              "L15.^RUT         -0.749612         0.330482           -2.268           0.023\n",
              "L15.^GSPC        -0.168351         0.590209           -0.285           0.775\n",
              "L15.^DJI          0.015421         0.050338            0.306           0.759\n",
              "L15.^IXIC         0.050691         0.087187            0.581           0.561\n",
              "============================================================================\n",
              "\n",
              "Results for equation ^IXIC\n",
              "============================================================================\n",
              "               coefficient       std. error           t-stat            prob\n",
              "----------------------------------------------------------------------------\n",
              "const             1.411488         0.575749            2.452           0.014\n",
              "L1.^RUT           0.423150         0.111846            3.783           0.000\n",
              "L1.^GSPC         -0.102712         0.201139           -0.511           0.610\n",
              "L1.^DJI          -0.054330         0.017125           -3.172           0.002\n",
              "L1.^IXIC          0.009136         0.029355            0.311           0.756\n",
              "L2.^RUT           0.052934         0.112007            0.473           0.637\n",
              "L2.^GSPC          0.013640         0.201325            0.068           0.946\n",
              "L2.^DJI           0.006018         0.017155            0.351           0.726\n",
              "L2.^IXIC          0.005282         0.029355            0.180           0.857\n",
              "L3.^RUT           0.388249         0.112205            3.460           0.001\n",
              "L3.^GSPC         -0.386159         0.201507           -1.916           0.055\n",
              "L3.^DJI           0.021209         0.017177            1.235           0.217\n",
              "L3.^IXIC          0.020874         0.029641            0.704           0.481\n",
              "L4.^RUT          -0.006831         0.112397           -0.061           0.952\n",
              "L4.^GSPC         -0.491408         0.201730           -2.436           0.015\n",
              "L4.^DJI           0.037958         0.017192            2.208           0.027\n",
              "L4.^IXIC          0.041411         0.029602            1.399           0.162\n",
              "L5.^RUT          -0.021921         0.112420           -0.195           0.845\n",
              "L5.^GSPC          0.054447         0.201867            0.270           0.787\n",
              "L5.^DJI          -0.000275         0.017204           -0.016           0.987\n",
              "L5.^IXIC         -0.021006         0.029666           -0.708           0.479\n",
              "L6.^RUT           0.189216         0.112452            1.683           0.092\n",
              "L6.^GSPC          0.456484         0.201590            2.264           0.024\n",
              "L6.^DJI          -0.042756         0.017197           -2.486           0.013\n",
              "L6.^IXIC         -0.131793         0.029606           -4.452           0.000\n",
              "L7.^RUT          -0.280271         0.112495           -2.491           0.013\n",
              "L7.^GSPC         -0.546911         0.201684           -2.712           0.007\n",
              "L7.^DJI           0.041656         0.017207            2.421           0.015\n",
              "L7.^IXIC          0.202078         0.029642            6.817           0.000\n",
              "L8.^RUT           0.514516         0.112471            4.575           0.000\n",
              "L8.^GSPC         -0.020732         0.201940           -0.103           0.918\n",
              "L8.^DJI          -0.014185         0.017221           -0.824           0.410\n",
              "L8.^IXIC         -0.141715         0.029679           -4.775           0.000\n",
              "L9.^RUT          -0.356648         0.112913           -3.159           0.002\n",
              "L9.^GSPC         -0.624800         0.201993           -3.093           0.002\n",
              "L9.^DJI           0.090450         0.017222            5.252           0.000\n",
              "L9.^IXIC          0.090588         0.029669            3.053           0.002\n",
              "L10.^RUT          0.201245         0.112939            1.782           0.075\n",
              "L10.^GSPC        -0.208616         0.202145           -1.032           0.302\n",
              "L10.^DJI         -0.013575         0.017254           -0.787           0.431\n",
              "L10.^IXIC         0.058422         0.029677            1.969           0.049\n",
              "L11.^RUT          0.178962         0.112890            1.585           0.113\n",
              "L11.^GSPC         0.085134         0.202189            0.421           0.674\n",
              "L11.^DJI         -0.019113         0.017246           -1.108           0.268\n",
              "L11.^IXIC         0.000604         0.029718            0.020           0.984\n",
              "L12.^RUT         -0.191657         0.113013           -1.696           0.090\n",
              "L12.^GSPC        -0.612049         0.201911           -3.031           0.002\n",
              "L12.^DJI          0.045424         0.017256            2.632           0.008\n",
              "L12.^IXIC         0.170368         0.029702            5.736           0.000\n",
              "L13.^RUT          0.226770         0.112927            2.008           0.045\n",
              "L13.^GSPC         0.162389         0.202038            0.804           0.422\n",
              "L13.^DJI         -0.032952         0.017257           -1.909           0.056\n",
              "L13.^IXIC        -0.008762         0.029812           -0.294           0.769\n",
              "L14.^RUT         -0.130777         0.112891           -1.158           0.247\n",
              "L14.^GSPC         0.231677         0.201644            1.149           0.251\n",
              "L14.^DJI          0.005434         0.017208            0.316           0.752\n",
              "L14.^IXIC        -0.077770         0.029806           -2.609           0.009\n",
              "L15.^RUT         -0.143552         0.112988           -1.271           0.204\n",
              "L15.^GSPC        -0.486040         0.201786           -2.409           0.016\n",
              "L15.^DJI          0.032572         0.017210            1.893           0.058\n",
              "L15.^IXIC         0.071047         0.029808            2.383           0.017\n",
              "============================================================================\n",
              "\n",
              "Correlation matrix of residuals\n",
              "             ^RUT     ^GSPC      ^DJI     ^IXIC\n",
              "^RUT     1.000000  0.868225  0.834719  0.812109\n",
              "^GSPC    0.868225  1.000000  0.966415  0.895365\n",
              "^DJI     0.834719  0.966415  1.000000  0.812775\n",
              "^IXIC    0.812109  0.895365  0.812775  1.000000\n",
              "\n"
            ]
          },
          "metadata": {
            "tags": []
          },
          "execution_count": 9
        }
      ]
    },
    {
      "cell_type": "code",
      "metadata": {
        "id": "KYmXXC9jUU8K",
        "colab": {
          "base_uri": "https://localhost:8080/",
          "height": 343
        },
        "outputId": "a12b088d-5881-4e6a-cbfb-d70feef0312c"
      },
      "source": [
        "from pandas import DataFrame\n",
        "# forecasting\n",
        "lag_order = results.k_ar\n",
        "DataFrame(results.forecast(data_diff.values[-lag_order:], nobs))"
      ],
      "execution_count": null,
      "outputs": [
        {
          "output_type": "execute_result",
          "data": {
            "text/html": [
              "<div>\n",
              "<style scoped>\n",
              "    .dataframe tbody tr th:only-of-type {\n",
              "        vertical-align: middle;\n",
              "    }\n",
              "\n",
              "    .dataframe tbody tr th {\n",
              "        vertical-align: top;\n",
              "    }\n",
              "\n",
              "    .dataframe thead th {\n",
              "        text-align: right;\n",
              "    }\n",
              "</style>\n",
              "<table border=\"1\" class=\"dataframe\">\n",
              "  <thead>\n",
              "    <tr style=\"text-align: right;\">\n",
              "      <th></th>\n",
              "      <th>0</th>\n",
              "      <th>1</th>\n",
              "      <th>2</th>\n",
              "      <th>3</th>\n",
              "    </tr>\n",
              "  </thead>\n",
              "  <tbody>\n",
              "    <tr>\n",
              "      <th>0</th>\n",
              "      <td>6.179871</td>\n",
              "      <td>18.588889</td>\n",
              "      <td>147.595192</td>\n",
              "      <td>43.208029</td>\n",
              "    </tr>\n",
              "    <tr>\n",
              "      <th>1</th>\n",
              "      <td>-5.793702</td>\n",
              "      <td>-2.354789</td>\n",
              "      <td>-68.875534</td>\n",
              "      <td>-12.017996</td>\n",
              "    </tr>\n",
              "    <tr>\n",
              "      <th>2</th>\n",
              "      <td>-1.187684</td>\n",
              "      <td>5.748262</td>\n",
              "      <td>15.235834</td>\n",
              "      <td>17.864327</td>\n",
              "    </tr>\n",
              "    <tr>\n",
              "      <th>3</th>\n",
              "      <td>13.074930</td>\n",
              "      <td>22.147101</td>\n",
              "      <td>153.536531</td>\n",
              "      <td>67.175911</td>\n",
              "    </tr>\n",
              "    <tr>\n",
              "      <th>4</th>\n",
              "      <td>-12.694413</td>\n",
              "      <td>-23.138287</td>\n",
              "      <td>-220.631382</td>\n",
              "      <td>-72.527600</td>\n",
              "    </tr>\n",
              "    <tr>\n",
              "      <th>5</th>\n",
              "      <td>22.751256</td>\n",
              "      <td>35.498871</td>\n",
              "      <td>301.100582</td>\n",
              "      <td>113.562426</td>\n",
              "    </tr>\n",
              "    <tr>\n",
              "      <th>6</th>\n",
              "      <td>-12.448735</td>\n",
              "      <td>-22.405352</td>\n",
              "      <td>-192.905542</td>\n",
              "      <td>-74.240101</td>\n",
              "    </tr>\n",
              "    <tr>\n",
              "      <th>7</th>\n",
              "      <td>8.915211</td>\n",
              "      <td>19.725856</td>\n",
              "      <td>178.926437</td>\n",
              "      <td>76.790436</td>\n",
              "    </tr>\n",
              "    <tr>\n",
              "      <th>8</th>\n",
              "      <td>-7.375306</td>\n",
              "      <td>-16.717818</td>\n",
              "      <td>-110.166912</td>\n",
              "      <td>-54.730713</td>\n",
              "    </tr>\n",
              "    <tr>\n",
              "      <th>9</th>\n",
              "      <td>-10.818298</td>\n",
              "      <td>-15.171361</td>\n",
              "      <td>-92.833781</td>\n",
              "      <td>-59.050177</td>\n",
              "    </tr>\n",
              "  </tbody>\n",
              "</table>\n",
              "</div>"
            ],
            "text/plain": [
              "           0          1           2           3\n",
              "0   6.179871  18.588889  147.595192   43.208029\n",
              "1  -5.793702  -2.354789  -68.875534  -12.017996\n",
              "2  -1.187684   5.748262   15.235834   17.864327\n",
              "3  13.074930  22.147101  153.536531   67.175911\n",
              "4 -12.694413 -23.138287 -220.631382  -72.527600\n",
              "5  22.751256  35.498871  301.100582  113.562426\n",
              "6 -12.448735 -22.405352 -192.905542  -74.240101\n",
              "7   8.915211  19.725856  178.926437   76.790436\n",
              "8  -7.375306 -16.717818 -110.166912  -54.730713\n",
              "9 -10.818298 -15.171361  -92.833781  -59.050177"
            ]
          },
          "metadata": {
            "tags": []
          },
          "execution_count": 11
        }
      ]
    },
    {
      "cell_type": "code",
      "metadata": {
        "id": "twIctLzr_uRX",
        "colab": {
          "base_uri": "https://localhost:8080/",
          "height": 185
        },
        "outputId": "df1cb5d5-c039-4d8d-d7db-df3a5e94bebe"
      },
      "source": [
        "# make predictions\n",
        "pred = results.forecast(results.y, steps=nobs)\n",
        "print(pred)"
      ],
      "execution_count": null,
      "outputs": [
        {
          "output_type": "stream",
          "text": [
            "[[   6.17987074   18.5888894   147.59519171   43.20802924]\n",
            " [  -5.79370209   -2.35478861  -68.87553394  -12.01799585]\n",
            " [  -1.18768435    5.74826186   15.23583418   17.86432683]\n",
            " [  13.07493001   22.14710091  153.53653078   67.17591102]\n",
            " [ -12.69441276  -23.13828672 -220.63138164  -72.52759958]\n",
            " [  22.75125556   35.49887053  301.10058228  113.56242586]\n",
            " [ -12.44873492  -22.40535157 -192.90554236  -74.24010096]\n",
            " [   8.91521076   19.7258563   178.92643692   76.79043622]\n",
            " [  -7.37530567  -16.71781788 -110.16691233  -54.73071346]\n",
            " [ -10.81829771  -15.1713606   -92.83378114  -59.0501772 ]]\n"
          ],
          "name": "stdout"
        }
      ]
    },
    {
      "cell_type": "code",
      "metadata": {
        "id": "8i-W5ltuBpxq",
        "colab": {
          "base_uri": "https://localhost:8080/",
          "height": 343
        },
        "outputId": "da605798-549c-4662-f913-80b72fb7d0fd"
      },
      "source": [
        "pred = pd.DataFrame(pred, columns=data.columns+ '_pred')\n",
        "pred"
      ],
      "execution_count": null,
      "outputs": [
        {
          "output_type": "display_data",
          "data": {
            "application/javascript": [
              "\n",
              "        if (window._pyforest_update_imports_cell) { window._pyforest_update_imports_cell('import pandas as pd'); }\n",
              "    "
            ],
            "text/plain": [
              "<IPython.core.display.Javascript object>"
            ]
          },
          "metadata": {
            "tags": []
          }
        },
        {
          "output_type": "execute_result",
          "data": {
            "text/html": [
              "<div>\n",
              "<style scoped>\n",
              "    .dataframe tbody tr th:only-of-type {\n",
              "        vertical-align: middle;\n",
              "    }\n",
              "\n",
              "    .dataframe tbody tr th {\n",
              "        vertical-align: top;\n",
              "    }\n",
              "\n",
              "    .dataframe thead th {\n",
              "        text-align: right;\n",
              "    }\n",
              "</style>\n",
              "<table border=\"1\" class=\"dataframe\">\n",
              "  <thead>\n",
              "    <tr style=\"text-align: right;\">\n",
              "      <th>Symbols</th>\n",
              "      <th>^RUT_pred</th>\n",
              "      <th>^GSPC_pred</th>\n",
              "      <th>^DJI_pred</th>\n",
              "      <th>^IXIC_pred</th>\n",
              "    </tr>\n",
              "  </thead>\n",
              "  <tbody>\n",
              "    <tr>\n",
              "      <th>0</th>\n",
              "      <td>6.179871</td>\n",
              "      <td>18.588889</td>\n",
              "      <td>147.595192</td>\n",
              "      <td>43.208029</td>\n",
              "    </tr>\n",
              "    <tr>\n",
              "      <th>1</th>\n",
              "      <td>-5.793702</td>\n",
              "      <td>-2.354789</td>\n",
              "      <td>-68.875534</td>\n",
              "      <td>-12.017996</td>\n",
              "    </tr>\n",
              "    <tr>\n",
              "      <th>2</th>\n",
              "      <td>-1.187684</td>\n",
              "      <td>5.748262</td>\n",
              "      <td>15.235834</td>\n",
              "      <td>17.864327</td>\n",
              "    </tr>\n",
              "    <tr>\n",
              "      <th>3</th>\n",
              "      <td>13.074930</td>\n",
              "      <td>22.147101</td>\n",
              "      <td>153.536531</td>\n",
              "      <td>67.175911</td>\n",
              "    </tr>\n",
              "    <tr>\n",
              "      <th>4</th>\n",
              "      <td>-12.694413</td>\n",
              "      <td>-23.138287</td>\n",
              "      <td>-220.631382</td>\n",
              "      <td>-72.527600</td>\n",
              "    </tr>\n",
              "    <tr>\n",
              "      <th>5</th>\n",
              "      <td>22.751256</td>\n",
              "      <td>35.498871</td>\n",
              "      <td>301.100582</td>\n",
              "      <td>113.562426</td>\n",
              "    </tr>\n",
              "    <tr>\n",
              "      <th>6</th>\n",
              "      <td>-12.448735</td>\n",
              "      <td>-22.405352</td>\n",
              "      <td>-192.905542</td>\n",
              "      <td>-74.240101</td>\n",
              "    </tr>\n",
              "    <tr>\n",
              "      <th>7</th>\n",
              "      <td>8.915211</td>\n",
              "      <td>19.725856</td>\n",
              "      <td>178.926437</td>\n",
              "      <td>76.790436</td>\n",
              "    </tr>\n",
              "    <tr>\n",
              "      <th>8</th>\n",
              "      <td>-7.375306</td>\n",
              "      <td>-16.717818</td>\n",
              "      <td>-110.166912</td>\n",
              "      <td>-54.730713</td>\n",
              "    </tr>\n",
              "    <tr>\n",
              "      <th>9</th>\n",
              "      <td>-10.818298</td>\n",
              "      <td>-15.171361</td>\n",
              "      <td>-92.833781</td>\n",
              "      <td>-59.050177</td>\n",
              "    </tr>\n",
              "  </tbody>\n",
              "</table>\n",
              "</div>"
            ],
            "text/plain": [
              "Symbols  ^RUT_pred  ^GSPC_pred   ^DJI_pred  ^IXIC_pred\n",
              "0         6.179871   18.588889  147.595192   43.208029\n",
              "1        -5.793702   -2.354789  -68.875534  -12.017996\n",
              "2        -1.187684    5.748262   15.235834   17.864327\n",
              "3        13.074930   22.147101  153.536531   67.175911\n",
              "4       -12.694413  -23.138287 -220.631382  -72.527600\n",
              "5        22.751256   35.498871  301.100582  113.562426\n",
              "6       -12.448735  -22.405352 -192.905542  -74.240101\n",
              "7         8.915211   19.725856  178.926437   76.790436\n",
              "8        -7.375306  -16.717818 -110.166912  -54.730713\n",
              "9       -10.818298  -15.171361  -92.833781  -59.050177"
            ]
          },
          "metadata": {
            "tags": []
          },
          "execution_count": 13
        }
      ]
    },
    {
      "cell_type": "code",
      "metadata": {
        "id": "UE-ybdbsAV46",
        "colab": {
          "base_uri": "https://localhost:8080/",
          "height": 343
        },
        "outputId": "c4a10fb8-3784-481e-b48b-d5aad5e378fa"
      },
      "source": [
        "# inverting transformation\n",
        "def invert_transformation(data_diff, pred):\n",
        "  forecast = pred.copy()\n",
        "  columns = data.columns\n",
        "  for col in columns:\n",
        "    forecast[str(col)+'_pred'] = data[col].iloc[-1] + forecast[str(col)+'_pred'].cumsum()\n",
        "    return forecast\n",
        "output = invert_transformation(data_diff, pred)\n",
        "output.loc[:, ['^RUT_pred']]"
      ],
      "execution_count": null,
      "outputs": [
        {
          "output_type": "execute_result",
          "data": {
            "text/html": [
              "<div>\n",
              "<style scoped>\n",
              "    .dataframe tbody tr th:only-of-type {\n",
              "        vertical-align: middle;\n",
              "    }\n",
              "\n",
              "    .dataframe tbody tr th {\n",
              "        vertical-align: top;\n",
              "    }\n",
              "\n",
              "    .dataframe thead th {\n",
              "        text-align: right;\n",
              "    }\n",
              "</style>\n",
              "<table border=\"1\" class=\"dataframe\">\n",
              "  <thead>\n",
              "    <tr style=\"text-align: right;\">\n",
              "      <th>Symbols</th>\n",
              "      <th>^RUT_pred</th>\n",
              "    </tr>\n",
              "  </thead>\n",
              "  <tbody>\n",
              "    <tr>\n",
              "      <th>0</th>\n",
              "      <td>1510.769837</td>\n",
              "    </tr>\n",
              "    <tr>\n",
              "      <th>1</th>\n",
              "      <td>1504.976134</td>\n",
              "    </tr>\n",
              "    <tr>\n",
              "      <th>2</th>\n",
              "      <td>1503.788450</td>\n",
              "    </tr>\n",
              "    <tr>\n",
              "      <th>3</th>\n",
              "      <td>1516.863380</td>\n",
              "    </tr>\n",
              "    <tr>\n",
              "      <th>4</th>\n",
              "      <td>1504.168967</td>\n",
              "    </tr>\n",
              "    <tr>\n",
              "      <th>5</th>\n",
              "      <td>1526.920223</td>\n",
              "    </tr>\n",
              "    <tr>\n",
              "      <th>6</th>\n",
              "      <td>1514.471488</td>\n",
              "    </tr>\n",
              "    <tr>\n",
              "      <th>7</th>\n",
              "      <td>1523.386699</td>\n",
              "    </tr>\n",
              "    <tr>\n",
              "      <th>8</th>\n",
              "      <td>1516.011393</td>\n",
              "    </tr>\n",
              "    <tr>\n",
              "      <th>9</th>\n",
              "      <td>1505.193095</td>\n",
              "    </tr>\n",
              "  </tbody>\n",
              "</table>\n",
              "</div>"
            ],
            "text/plain": [
              "Symbols    ^RUT_pred\n",
              "0        1510.769837\n",
              "1        1504.976134\n",
              "2        1503.788450\n",
              "3        1516.863380\n",
              "4        1504.168967\n",
              "5        1526.920223\n",
              "6        1514.471488\n",
              "7        1523.386699\n",
              "8        1516.011393\n",
              "9        1505.193095"
            ]
          },
          "metadata": {
            "tags": []
          },
          "execution_count": 14
        }
      ]
    },
    {
      "cell_type": "code",
      "metadata": {
        "id": "lOpq6Mo0IoWN",
        "colab": {
          "base_uri": "https://localhost:8080/",
          "height": 343
        },
        "outputId": "029fe054-e3c1-4f72-ced9-44bbf50ccdb4"
      },
      "source": [
        "from pandas import DataFrame\n",
        "output = DataFrame(output['^RUT_pred'])\n",
        "output"
      ],
      "execution_count": null,
      "outputs": [
        {
          "output_type": "execute_result",
          "data": {
            "text/html": [
              "<div>\n",
              "<style scoped>\n",
              "    .dataframe tbody tr th:only-of-type {\n",
              "        vertical-align: middle;\n",
              "    }\n",
              "\n",
              "    .dataframe tbody tr th {\n",
              "        vertical-align: top;\n",
              "    }\n",
              "\n",
              "    .dataframe thead th {\n",
              "        text-align: right;\n",
              "    }\n",
              "</style>\n",
              "<table border=\"1\" class=\"dataframe\">\n",
              "  <thead>\n",
              "    <tr style=\"text-align: right;\">\n",
              "      <th></th>\n",
              "      <th>^RUT_pred</th>\n",
              "    </tr>\n",
              "  </thead>\n",
              "  <tbody>\n",
              "    <tr>\n",
              "      <th>0</th>\n",
              "      <td>1510.769837</td>\n",
              "    </tr>\n",
              "    <tr>\n",
              "      <th>1</th>\n",
              "      <td>1504.976134</td>\n",
              "    </tr>\n",
              "    <tr>\n",
              "      <th>2</th>\n",
              "      <td>1503.788450</td>\n",
              "    </tr>\n",
              "    <tr>\n",
              "      <th>3</th>\n",
              "      <td>1516.863380</td>\n",
              "    </tr>\n",
              "    <tr>\n",
              "      <th>4</th>\n",
              "      <td>1504.168967</td>\n",
              "    </tr>\n",
              "    <tr>\n",
              "      <th>5</th>\n",
              "      <td>1526.920223</td>\n",
              "    </tr>\n",
              "    <tr>\n",
              "      <th>6</th>\n",
              "      <td>1514.471488</td>\n",
              "    </tr>\n",
              "    <tr>\n",
              "      <th>7</th>\n",
              "      <td>1523.386699</td>\n",
              "    </tr>\n",
              "    <tr>\n",
              "      <th>8</th>\n",
              "      <td>1516.011393</td>\n",
              "    </tr>\n",
              "    <tr>\n",
              "      <th>9</th>\n",
              "      <td>1505.193095</td>\n",
              "    </tr>\n",
              "  </tbody>\n",
              "</table>\n",
              "</div>"
            ],
            "text/plain": [
              "     ^RUT_pred\n",
              "0  1510.769837\n",
              "1  1504.976134\n",
              "2  1503.788450\n",
              "3  1516.863380\n",
              "4  1504.168967\n",
              "5  1526.920223\n",
              "6  1514.471488\n",
              "7  1523.386699\n",
              "8  1516.011393\n",
              "9  1505.193095"
            ]
          },
          "metadata": {
            "tags": []
          },
          "execution_count": 15
        }
      ]
    },
    {
      "cell_type": "code",
      "metadata": {
        "id": "MxJmnqJjI-H0",
        "colab": {
          "base_uri": "https://localhost:8080/",
          "height": 218
        },
        "outputId": "fbae280b-6a4e-47ed-ed46-2350cfcfa129"
      },
      "source": [
        "d = data.tail(nobs)\n",
        "d.reset_index(inplace = True)\n",
        "d = d.append(pd.DataFrame({'Date': pd.date_range(start = d.Date.iloc[-1], \n",
        "                                             periods = (len(d)+1), freq = 'd', closed = 'right')}))\n",
        "d.set_index('Date', inplace = True)\n",
        "d = d.tail(nobs)\n",
        "output.index = d.index\n",
        "print(output)"
      ],
      "execution_count": null,
      "outputs": [
        {
          "output_type": "display_data",
          "data": {
            "application/javascript": [
              "\n",
              "        if (window._pyforest_update_imports_cell) { window._pyforest_update_imports_cell('import pandas as pd'); }\n",
              "    "
            ],
            "text/plain": [
              "<IPython.core.display.Javascript object>"
            ]
          },
          "metadata": {
            "tags": []
          }
        },
        {
          "output_type": "display_data",
          "data": {
            "application/javascript": [
              "\n",
              "        if (window._pyforest_update_imports_cell) { window._pyforest_update_imports_cell('import pandas as pd'); }\n",
              "    "
            ],
            "text/plain": [
              "<IPython.core.display.Javascript object>"
            ]
          },
          "metadata": {
            "tags": []
          }
        },
        {
          "output_type": "stream",
          "text": [
            "              ^RUT_pred\n",
            "Date                   \n",
            "2020-09-09  1510.769837\n",
            "2020-09-10  1504.976134\n",
            "2020-09-11  1503.788450\n",
            "2020-09-12  1516.863380\n",
            "2020-09-13  1504.168967\n",
            "2020-09-14  1526.920223\n",
            "2020-09-15  1514.471488\n",
            "2020-09-16  1523.386699\n",
            "2020-09-17  1516.011393\n",
            "2020-09-18  1505.193095\n"
          ],
          "name": "stdout"
        }
      ]
    },
    {
      "cell_type": "code",
      "metadata": {
        "id": "RjNd8VU-KGzj",
        "colab": {
          "base_uri": "https://localhost:8080/",
          "height": 417
        },
        "outputId": "f3b6e040-cd11-4ea7-8ec3-1f06026a1a26"
      },
      "source": [
        "fig = go.Figure()\n",
        "n = output.index[0]\n",
        "fig.add_trace(go.Scatter(x = data.index[-200:], y = data['^RUT'][-200:],\n",
        "                         marker = dict(color =\"red\"), name = \"Actual close price\"))\n",
        "fig.add_trace(go.Scatter(x = output.index, y = output['^RUT_pred'], marker=dict(\n",
        "        color = \"green\"), name = \"Future prediction\"))\n",
        "\n",
        "\n",
        "fig.update_xaxes(showline = True, linewidth = 2, linecolor='black', mirror = True, showspikes = True,)\n",
        "fig.update_yaxes(showline = True, linewidth = 2, linecolor='black', mirror = True, showspikes = True,)\n",
        "fig.update_layout(\n",
        "    title= \"10 days days RUT Forecast\", \n",
        "    yaxis_title = 'RUTC (US$)',\n",
        "    hovermode = \"x\",\n",
        "    hoverdistance = 100, # Distance to show hover label of data point\n",
        "    spikedistance = 1000,\n",
        "    shapes = [dict(\n",
        "        x0 = n, x1 = n, y0 = 0, y1 = 1, xref = 'x', yref = 'paper',\n",
        "        line_width = 2)],\n",
        "    annotations = [dict(x = n, y = 0.05, xref = 'x', yref = 'paper', showarrow = False, \n",
        "                        xanchor = 'left', text = 'Prediction')]) \n",
        "fig.update_layout(autosize = False, width = 1000, height = 400,)\n",
        "fig.show()"
      ],
      "execution_count": null,
      "outputs": [
        {
          "output_type": "display_data",
          "data": {
            "application/javascript": [
              "\n",
              "        if (window._pyforest_update_imports_cell) { window._pyforest_update_imports_cell('import plotly.graph_objs as go\\nimport pandas as pd'); }\n",
              "    "
            ],
            "text/plain": [
              "<IPython.core.display.Javascript object>"
            ]
          },
          "metadata": {
            "tags": []
          }
        },
        {
          "output_type": "display_data",
          "data": {
            "application/javascript": [
              "\n",
              "        if (window._pyforest_update_imports_cell) { window._pyforest_update_imports_cell('import plotly.graph_objs as go\\nimport pandas as pd'); }\n",
              "    "
            ],
            "text/plain": [
              "<IPython.core.display.Javascript object>"
            ]
          },
          "metadata": {
            "tags": []
          }
        },
        {
          "output_type": "display_data",
          "data": {
            "application/javascript": [
              "\n",
              "        if (window._pyforest_update_imports_cell) { window._pyforest_update_imports_cell('import plotly.graph_objs as go\\nimport pandas as pd'); }\n",
              "    "
            ],
            "text/plain": [
              "<IPython.core.display.Javascript object>"
            ]
          },
          "metadata": {
            "tags": []
          }
        },
        {
          "output_type": "display_data",
          "data": {
            "text/html": [
              "<html>\n",
              "<head><meta charset=\"utf-8\" /></head>\n",
              "<body>\n",
              "    <div>\n",
              "            <script src=\"https://cdnjs.cloudflare.com/ajax/libs/mathjax/2.7.5/MathJax.js?config=TeX-AMS-MML_SVG\"></script><script type=\"text/javascript\">if (window.MathJax) {MathJax.Hub.Config({SVG: {font: \"STIX-Web\"}});}</script>\n",
              "                <script type=\"text/javascript\">window.PlotlyConfig = {MathJaxConfig: 'local'};</script>\n",
              "        <script src=\"https://cdn.plot.ly/plotly-latest.min.js\"></script>    \n",
              "            <div id=\"f417f7af-477c-4037-93b5-391fb6bf1443\" class=\"plotly-graph-div\" style=\"height:400px; width:1000px;\"></div>\n",
              "            <script type=\"text/javascript\">\n",
              "                \n",
              "                    window.PLOTLYENV=window.PLOTLYENV || {};\n",
              "                    \n",
              "                if (document.getElementById(\"f417f7af-477c-4037-93b5-391fb6bf1443\")) {\n",
              "                    Plotly.newPlot(\n",
              "                        'f417f7af-477c-4037-93b5-391fb6bf1443',\n",
              "                        [{\"marker\": {\"color\": \"red\"}, \"name\": \"Actual close price\", \"type\": \"scatter\", \"x\": [\"2019-11-21T00:00:00\", \"2019-11-22T00:00:00\", \"2019-11-25T00:00:00\", \"2019-11-26T00:00:00\", \"2019-11-27T00:00:00\", \"2019-11-29T00:00:00\", \"2019-12-02T00:00:00\", \"2019-12-03T00:00:00\", \"2019-12-04T00:00:00\", \"2019-12-05T00:00:00\", \"2019-12-06T00:00:00\", \"2019-12-09T00:00:00\", \"2019-12-10T00:00:00\", \"2019-12-11T00:00:00\", \"2019-12-12T00:00:00\", \"2019-12-13T00:00:00\", \"2019-12-16T00:00:00\", \"2019-12-17T00:00:00\", \"2019-12-18T00:00:00\", \"2019-12-19T00:00:00\", \"2019-12-20T00:00:00\", \"2019-12-23T00:00:00\", \"2019-12-24T00:00:00\", \"2019-12-26T00:00:00\", \"2019-12-27T00:00:00\", \"2019-12-30T00:00:00\", \"2019-12-31T00:00:00\", \"2020-01-02T00:00:00\", \"2020-01-03T00:00:00\", \"2020-01-06T00:00:00\", \"2020-01-07T00:00:00\", \"2020-01-08T00:00:00\", \"2020-01-09T00:00:00\", \"2020-01-10T00:00:00\", \"2020-01-13T00:00:00\", \"2020-01-14T00:00:00\", \"2020-01-15T00:00:00\", \"2020-01-16T00:00:00\", \"2020-01-17T00:00:00\", \"2020-01-21T00:00:00\", \"2020-01-22T00:00:00\", \"2020-01-23T00:00:00\", \"2020-01-24T00:00:00\", \"2020-01-27T00:00:00\", \"2020-01-28T00:00:00\", \"2020-01-29T00:00:00\", \"2020-01-30T00:00:00\", \"2020-01-31T00:00:00\", \"2020-02-03T00:00:00\", \"2020-02-04T00:00:00\", \"2020-02-05T00:00:00\", \"2020-02-06T00:00:00\", \"2020-02-07T00:00:00\", \"2020-02-10T00:00:00\", \"2020-02-11T00:00:00\", \"2020-02-12T00:00:00\", \"2020-02-13T00:00:00\", \"2020-02-14T00:00:00\", \"2020-02-18T00:00:00\", \"2020-02-19T00:00:00\", \"2020-02-20T00:00:00\", \"2020-02-21T00:00:00\", \"2020-02-24T00:00:00\", \"2020-02-25T00:00:00\", \"2020-02-26T00:00:00\", \"2020-02-27T00:00:00\", \"2020-02-28T00:00:00\", \"2020-03-02T00:00:00\", \"2020-03-03T00:00:00\", \"2020-03-04T00:00:00\", \"2020-03-05T00:00:00\", \"2020-03-06T00:00:00\", \"2020-03-09T00:00:00\", \"2020-03-10T00:00:00\", \"2020-03-11T00:00:00\", \"2020-03-12T00:00:00\", \"2020-03-13T00:00:00\", \"2020-03-16T00:00:00\", \"2020-03-17T00:00:00\", \"2020-03-18T00:00:00\", \"2020-03-19T00:00:00\", \"2020-03-20T00:00:00\", \"2020-03-23T00:00:00\", \"2020-03-24T00:00:00\", \"2020-03-25T00:00:00\", \"2020-03-26T00:00:00\", \"2020-03-27T00:00:00\", \"2020-03-30T00:00:00\", \"2020-03-31T00:00:00\", \"2020-04-01T00:00:00\", \"2020-04-02T00:00:00\", \"2020-04-03T00:00:00\", \"2020-04-06T00:00:00\", \"2020-04-07T00:00:00\", \"2020-04-08T00:00:00\", \"2020-04-09T00:00:00\", \"2020-04-13T00:00:00\", \"2020-04-14T00:00:00\", \"2020-04-15T00:00:00\", \"2020-04-16T00:00:00\", \"2020-04-17T00:00:00\", \"2020-04-20T00:00:00\", \"2020-04-21T00:00:00\", \"2020-04-22T00:00:00\", \"2020-04-23T00:00:00\", \"2020-04-24T00:00:00\", \"2020-04-27T00:00:00\", \"2020-04-28T00:00:00\", \"2020-04-29T00:00:00\", \"2020-04-30T00:00:00\", \"2020-05-01T00:00:00\", \"2020-05-04T00:00:00\", \"2020-05-05T00:00:00\", \"2020-05-06T00:00:00\", \"2020-05-07T00:00:00\", \"2020-05-08T00:00:00\", \"2020-05-11T00:00:00\", \"2020-05-12T00:00:00\", \"2020-05-13T00:00:00\", \"2020-05-14T00:00:00\", \"2020-05-15T00:00:00\", \"2020-05-18T00:00:00\", \"2020-05-19T00:00:00\", \"2020-05-20T00:00:00\", \"2020-05-21T00:00:00\", \"2020-05-22T00:00:00\", \"2020-05-26T00:00:00\", \"2020-05-27T00:00:00\", \"2020-05-28T00:00:00\", \"2020-05-29T00:00:00\", \"2020-06-01T00:00:00\", \"2020-06-02T00:00:00\", \"2020-06-03T00:00:00\", \"2020-06-04T00:00:00\", \"2020-06-05T00:00:00\", \"2020-06-08T00:00:00\", \"2020-06-09T00:00:00\", \"2020-06-10T00:00:00\", \"2020-06-11T00:00:00\", \"2020-06-12T00:00:00\", \"2020-06-15T00:00:00\", \"2020-06-16T00:00:00\", \"2020-06-17T00:00:00\", \"2020-06-18T00:00:00\", \"2020-06-19T00:00:00\", \"2020-06-22T00:00:00\", \"2020-06-23T00:00:00\", \"2020-06-24T00:00:00\", \"2020-06-25T00:00:00\", \"2020-06-26T00:00:00\", \"2020-06-29T00:00:00\", \"2020-06-30T00:00:00\", \"2020-07-01T00:00:00\", \"2020-07-02T00:00:00\", \"2020-07-06T00:00:00\", \"2020-07-07T00:00:00\", \"2020-07-08T00:00:00\", \"2020-07-09T00:00:00\", \"2020-07-10T00:00:00\", \"2020-07-13T00:00:00\", \"2020-07-14T00:00:00\", \"2020-07-15T00:00:00\", \"2020-07-16T00:00:00\", \"2020-07-17T00:00:00\", \"2020-07-20T00:00:00\", \"2020-07-21T00:00:00\", \"2020-07-22T00:00:00\", \"2020-07-23T00:00:00\", \"2020-07-24T00:00:00\", \"2020-07-27T00:00:00\", \"2020-07-28T00:00:00\", \"2020-07-29T00:00:00\", \"2020-07-30T00:00:00\", \"2020-07-31T00:00:00\", \"2020-08-03T00:00:00\", \"2020-08-04T00:00:00\", \"2020-08-05T00:00:00\", \"2020-08-06T00:00:00\", \"2020-08-07T00:00:00\", \"2020-08-10T00:00:00\", \"2020-08-11T00:00:00\", \"2020-08-12T00:00:00\", \"2020-08-13T00:00:00\", \"2020-08-14T00:00:00\", \"2020-08-17T00:00:00\", \"2020-08-18T00:00:00\", \"2020-08-19T00:00:00\", \"2020-08-20T00:00:00\", \"2020-08-21T00:00:00\", \"2020-08-24T00:00:00\", \"2020-08-25T00:00:00\", \"2020-08-26T00:00:00\", \"2020-08-27T00:00:00\", \"2020-08-28T00:00:00\", \"2020-08-31T00:00:00\", \"2020-09-01T00:00:00\", \"2020-09-02T00:00:00\", \"2020-09-03T00:00:00\", \"2020-09-04T00:00:00\", \"2020-09-08T00:00:00\"], \"y\": [1583.9599609375, 1588.93994140625, 1621.9000244140625, 1624.22998046875, 1634.0999755859375, 1624.5, 1607.5799560546875, 1602.6300048828125, 1613.9000244140625, 1614.8299560546875, 1633.8399658203125, 1629.6199951171875, 1631.7099609375, 1631.9300537109375, 1644.81005859375, 1637.97998046875, 1649.93994140625, 1657.56005859375, 1661.72998046875, 1667.0899658203125, 1671.9000244140625, 1674.1400146484375, 1678.010009765625, 1677.6700439453125, 1669.030029296875, 1664.1500244140625, 1668.469970703125, 1666.77001953125, 1660.8699951171875, 1663.260009765625, 1658.31005859375, 1663.5899658203125, 1664.989990234375, 1657.6400146484375, 1669.6099853515625, 1675.739990234375, 1682.4000244140625, 1705.219970703125, 1699.6400146484375, 1685.9000244140625, 1684.4599609375, 1685.010009765625, 1662.22998046875, 1644.1400146484375, 1658.31005859375, 1649.219970703125, 1648.219970703125, 1614.06005859375, 1632.2099609375, 1656.77001953125, 1681.9200439453125, 1677.4599609375, 1656.780029296875, 1667.6700439453125, 1677.510009765625, 1689.3800048828125, 1693.739990234375, 1687.5799560546875, 1683.52001953125, 1692.5699462890625, 1696.0699462890625, 1678.6099853515625, 1628.0999755859375, 1571.9000244140625, 1552.760009765625, 1497.8699951171875, 1476.4300537109375, 1518.489990234375, 1486.0799560546875, 1531.199951171875, 1478.8199462890625, 1449.219970703125, 1313.43994140625, 1350.9000244140625, 1264.300048828125, 1122.9300537109375, 1210.1300048828125, 1037.4200439453125, 1106.510009765625, 991.1599731445312, 1058.75, 1013.8900146484375, 1002.4000244140625, 1096.5400390625, 1110.3699951171875, 1180.3199462890625, 1131.989990234375, 1158.3199462890625, 1153.0999755859375, 1071.989990234375, 1085.81005859375, 1052.050048828125, 1138.780029296875, 1139.1700439453125, 1191.6600341796875, 1246.72998046875, 1212.0400390625, 1237.3299560546875, 1183.97998046875, 1178.0899658203125, 1229.0999755859375, 1213.3499755859375, 1185.0899658203125, 1201.52001953125, 1214.06005859375, 1233.050048828125, 1281.8800048828125, 1298.0799560546875, 1360.760009765625, 1310.6600341796875, 1260.47998046875, 1263.969970703125, 1273.510009765625, 1263.010009765625, 1282.9300537109375, 1329.6400146484375, 1321.239990234375, 1275.5400390625, 1233.25, 1237.550048828125, 1256.989990234375, 1333.68994140625, 1307.719970703125, 1346.9300537109375, 1347.56005859375, 1355.530029296875, 1393.0699462890625, 1436.3599853515625, 1400.6700439453125, 1394.0400390625, 1405.3699951171875, 1418.2099609375, 1452.0899658203125, 1452.06005859375, 1507.1500244140625, 1536.8900146484375, 1507.050048828125, 1467.3900146484375, 1356.219970703125, 1387.6800537109375, 1419.6099853515625, 1452.260009765625, 1426.530029296875, 1427.3299560546875, 1418.6300048828125, 1433.530029296875, 1439.3399658203125, 1389.739990234375, 1413.31005859375, 1378.780029296875, 1421.2099609375, 1441.3699951171875, 1427.31005859375, 1431.8599853515625, 1442.8800048828125, 1416.0, 1427.4000244140625, 1398.9200439453125, 1422.6800537109375, 1403.5699462890625, 1428.260009765625, 1478.27001953125, 1467.56005859375, 1473.3199462890625, 1467.949951171875, 1487.510009765625, 1490.1400146484375, 1490.199951171875, 1467.550048828125, 1484.6500244140625, 1469.760009765625, 1500.6300048828125, 1495.0999755859375, 1480.4300537109375, 1506.800048828125, 1517.2099609375, 1546.239990234375, 1544.6199951171875, 1569.1800537109375, 1584.6700439453125, 1575.0999755859375, 1583.25, 1579.7900390625, 1577.8800048828125, 1585.469970703125, 1569.77001953125, 1572.0699462890625, 1564.300048828125, 1552.47998046875, 1568.469970703125, 1571.2099609375, 1560.18994140625, 1564.56005859375, 1578.3399658203125, 1561.8800048828125, 1578.5799560546875, 1592.2900390625, 1544.6800537109375, 1535.300048828125, 1504.5899658203125]}, {\"marker\": {\"color\": \"green\"}, \"name\": \"Future prediction\", \"type\": \"scatter\", \"x\": [\"2020-09-09T00:00:00\", \"2020-09-10T00:00:00\", \"2020-09-11T00:00:00\", \"2020-09-12T00:00:00\", \"2020-09-13T00:00:00\", \"2020-09-14T00:00:00\", \"2020-09-15T00:00:00\", \"2020-09-16T00:00:00\", \"2020-09-17T00:00:00\", \"2020-09-18T00:00:00\"], \"y\": [1510.7698365644103, 1504.976134478879, 1503.7884501260967, 1516.8633801332387, 1504.1689673754452, 1526.9202229359225, 1514.4714880112806, 1523.3866987724036, 1516.011393106382, 1505.193095397638]}],\n",
              "                        {\"annotations\": [{\"showarrow\": false, \"text\": \"Prediction\", \"x\": \"2020-09-09T00:00:00\", \"xanchor\": \"left\", \"xref\": \"x\", \"y\": 0.05, \"yref\": \"paper\"}], \"autosize\": false, \"height\": 400, \"hoverdistance\": 100, \"hovermode\": \"x\", \"shapes\": [{\"line\": {\"width\": 2}, \"x0\": \"2020-09-09T00:00:00\", \"x1\": \"2020-09-09T00:00:00\", \"xref\": \"x\", \"y0\": 0, \"y1\": 1, \"yref\": \"paper\"}], \"spikedistance\": 1000, \"template\": {\"data\": {\"bar\": [{\"error_x\": {\"color\": \"#2a3f5f\"}, \"error_y\": {\"color\": \"#2a3f5f\"}, \"marker\": {\"line\": {\"color\": \"#E5ECF6\", \"width\": 0.5}}, \"type\": \"bar\"}], \"barpolar\": [{\"marker\": {\"line\": {\"color\": \"#E5ECF6\", \"width\": 0.5}}, \"type\": \"barpolar\"}], \"carpet\": [{\"aaxis\": {\"endlinecolor\": \"#2a3f5f\", \"gridcolor\": \"white\", \"linecolor\": \"white\", \"minorgridcolor\": \"white\", \"startlinecolor\": \"#2a3f5f\"}, \"baxis\": {\"endlinecolor\": \"#2a3f5f\", \"gridcolor\": \"white\", \"linecolor\": \"white\", \"minorgridcolor\": \"white\", \"startlinecolor\": \"#2a3f5f\"}, \"type\": \"carpet\"}], \"choropleth\": [{\"colorbar\": {\"outlinewidth\": 0, \"ticks\": \"\"}, \"type\": \"choropleth\"}], \"contour\": [{\"colorbar\": {\"outlinewidth\": 0, \"ticks\": \"\"}, \"colorscale\": [[0.0, \"#0d0887\"], [0.1111111111111111, \"#46039f\"], [0.2222222222222222, \"#7201a8\"], [0.3333333333333333, \"#9c179e\"], [0.4444444444444444, \"#bd3786\"], [0.5555555555555556, \"#d8576b\"], [0.6666666666666666, \"#ed7953\"], [0.7777777777777778, \"#fb9f3a\"], [0.8888888888888888, \"#fdca26\"], [1.0, \"#f0f921\"]], \"type\": \"contour\"}], \"contourcarpet\": [{\"colorbar\": {\"outlinewidth\": 0, \"ticks\": \"\"}, \"type\": \"contourcarpet\"}], \"heatmap\": [{\"colorbar\": {\"outlinewidth\": 0, \"ticks\": \"\"}, \"colorscale\": [[0.0, \"#0d0887\"], [0.1111111111111111, \"#46039f\"], [0.2222222222222222, \"#7201a8\"], [0.3333333333333333, \"#9c179e\"], [0.4444444444444444, \"#bd3786\"], [0.5555555555555556, \"#d8576b\"], [0.6666666666666666, \"#ed7953\"], [0.7777777777777778, \"#fb9f3a\"], [0.8888888888888888, \"#fdca26\"], [1.0, \"#f0f921\"]], \"type\": \"heatmap\"}], \"heatmapgl\": [{\"colorbar\": {\"outlinewidth\": 0, \"ticks\": \"\"}, \"colorscale\": [[0.0, \"#0d0887\"], [0.1111111111111111, \"#46039f\"], [0.2222222222222222, \"#7201a8\"], [0.3333333333333333, \"#9c179e\"], [0.4444444444444444, \"#bd3786\"], [0.5555555555555556, \"#d8576b\"], [0.6666666666666666, \"#ed7953\"], [0.7777777777777778, \"#fb9f3a\"], [0.8888888888888888, \"#fdca26\"], [1.0, \"#f0f921\"]], \"type\": \"heatmapgl\"}], \"histogram\": [{\"marker\": {\"colorbar\": {\"outlinewidth\": 0, \"ticks\": \"\"}}, \"type\": \"histogram\"}], \"histogram2d\": [{\"colorbar\": {\"outlinewidth\": 0, \"ticks\": \"\"}, \"colorscale\": [[0.0, \"#0d0887\"], [0.1111111111111111, \"#46039f\"], [0.2222222222222222, \"#7201a8\"], [0.3333333333333333, \"#9c179e\"], [0.4444444444444444, \"#bd3786\"], [0.5555555555555556, \"#d8576b\"], [0.6666666666666666, \"#ed7953\"], [0.7777777777777778, \"#fb9f3a\"], [0.8888888888888888, \"#fdca26\"], [1.0, \"#f0f921\"]], \"type\": \"histogram2d\"}], \"histogram2dcontour\": [{\"colorbar\": {\"outlinewidth\": 0, \"ticks\": \"\"}, \"colorscale\": [[0.0, \"#0d0887\"], [0.1111111111111111, \"#46039f\"], [0.2222222222222222, \"#7201a8\"], [0.3333333333333333, \"#9c179e\"], [0.4444444444444444, \"#bd3786\"], [0.5555555555555556, \"#d8576b\"], [0.6666666666666666, \"#ed7953\"], [0.7777777777777778, \"#fb9f3a\"], [0.8888888888888888, \"#fdca26\"], [1.0, \"#f0f921\"]], \"type\": \"histogram2dcontour\"}], \"mesh3d\": [{\"colorbar\": {\"outlinewidth\": 0, \"ticks\": \"\"}, \"type\": \"mesh3d\"}], \"parcoords\": [{\"line\": {\"colorbar\": {\"outlinewidth\": 0, \"ticks\": \"\"}}, \"type\": \"parcoords\"}], \"pie\": [{\"automargin\": true, \"type\": \"pie\"}], \"scatter\": [{\"marker\": {\"colorbar\": {\"outlinewidth\": 0, \"ticks\": \"\"}}, \"type\": \"scatter\"}], \"scatter3d\": [{\"line\": {\"colorbar\": {\"outlinewidth\": 0, \"ticks\": \"\"}}, \"marker\": {\"colorbar\": {\"outlinewidth\": 0, \"ticks\": \"\"}}, \"type\": \"scatter3d\"}], \"scattercarpet\": [{\"marker\": {\"colorbar\": {\"outlinewidth\": 0, \"ticks\": \"\"}}, \"type\": \"scattercarpet\"}], \"scattergeo\": [{\"marker\": {\"colorbar\": {\"outlinewidth\": 0, \"ticks\": \"\"}}, \"type\": \"scattergeo\"}], \"scattergl\": [{\"marker\": {\"colorbar\": {\"outlinewidth\": 0, \"ticks\": \"\"}}, \"type\": \"scattergl\"}], \"scattermapbox\": [{\"marker\": {\"colorbar\": {\"outlinewidth\": 0, \"ticks\": \"\"}}, \"type\": \"scattermapbox\"}], \"scatterpolar\": [{\"marker\": {\"colorbar\": {\"outlinewidth\": 0, \"ticks\": \"\"}}, \"type\": \"scatterpolar\"}], \"scatterpolargl\": [{\"marker\": {\"colorbar\": {\"outlinewidth\": 0, \"ticks\": \"\"}}, \"type\": \"scatterpolargl\"}], \"scatterternary\": [{\"marker\": {\"colorbar\": {\"outlinewidth\": 0, \"ticks\": \"\"}}, \"type\": \"scatterternary\"}], \"surface\": [{\"colorbar\": {\"outlinewidth\": 0, \"ticks\": \"\"}, \"colorscale\": [[0.0, \"#0d0887\"], [0.1111111111111111, \"#46039f\"], [0.2222222222222222, \"#7201a8\"], [0.3333333333333333, \"#9c179e\"], [0.4444444444444444, \"#bd3786\"], [0.5555555555555556, \"#d8576b\"], [0.6666666666666666, \"#ed7953\"], [0.7777777777777778, \"#fb9f3a\"], [0.8888888888888888, \"#fdca26\"], [1.0, \"#f0f921\"]], \"type\": \"surface\"}], \"table\": [{\"cells\": {\"fill\": {\"color\": \"#EBF0F8\"}, \"line\": {\"color\": \"white\"}}, \"header\": {\"fill\": {\"color\": \"#C8D4E3\"}, \"line\": {\"color\": \"white\"}}, \"type\": \"table\"}]}, \"layout\": {\"annotationdefaults\": {\"arrowcolor\": \"#2a3f5f\", \"arrowhead\": 0, \"arrowwidth\": 1}, \"coloraxis\": {\"colorbar\": {\"outlinewidth\": 0, \"ticks\": \"\"}}, \"colorscale\": {\"diverging\": [[0, \"#8e0152\"], [0.1, \"#c51b7d\"], [0.2, \"#de77ae\"], [0.3, \"#f1b6da\"], [0.4, \"#fde0ef\"], [0.5, \"#f7f7f7\"], [0.6, \"#e6f5d0\"], [0.7, \"#b8e186\"], [0.8, \"#7fbc41\"], [0.9, \"#4d9221\"], [1, \"#276419\"]], \"sequential\": [[0.0, \"#0d0887\"], [0.1111111111111111, \"#46039f\"], [0.2222222222222222, \"#7201a8\"], [0.3333333333333333, \"#9c179e\"], [0.4444444444444444, \"#bd3786\"], [0.5555555555555556, \"#d8576b\"], [0.6666666666666666, \"#ed7953\"], [0.7777777777777778, \"#fb9f3a\"], [0.8888888888888888, \"#fdca26\"], [1.0, \"#f0f921\"]], \"sequentialminus\": [[0.0, \"#0d0887\"], [0.1111111111111111, \"#46039f\"], [0.2222222222222222, \"#7201a8\"], [0.3333333333333333, \"#9c179e\"], [0.4444444444444444, \"#bd3786\"], [0.5555555555555556, \"#d8576b\"], [0.6666666666666666, \"#ed7953\"], [0.7777777777777778, \"#fb9f3a\"], [0.8888888888888888, \"#fdca26\"], [1.0, \"#f0f921\"]]}, \"colorway\": [\"#636efa\", \"#EF553B\", \"#00cc96\", \"#ab63fa\", \"#FFA15A\", \"#19d3f3\", \"#FF6692\", \"#B6E880\", \"#FF97FF\", \"#FECB52\"], \"font\": {\"color\": \"#2a3f5f\"}, \"geo\": {\"bgcolor\": \"white\", \"lakecolor\": \"white\", \"landcolor\": \"#E5ECF6\", \"showlakes\": true, \"showland\": true, \"subunitcolor\": \"white\"}, \"hoverlabel\": {\"align\": \"left\"}, \"hovermode\": \"closest\", \"mapbox\": {\"style\": \"light\"}, \"paper_bgcolor\": \"white\", \"plot_bgcolor\": \"#E5ECF6\", \"polar\": {\"angularaxis\": {\"gridcolor\": \"white\", \"linecolor\": \"white\", \"ticks\": \"\"}, \"bgcolor\": \"#E5ECF6\", \"radialaxis\": {\"gridcolor\": \"white\", \"linecolor\": \"white\", \"ticks\": \"\"}}, \"scene\": {\"xaxis\": {\"backgroundcolor\": \"#E5ECF6\", \"gridcolor\": \"white\", \"gridwidth\": 2, \"linecolor\": \"white\", \"showbackground\": true, \"ticks\": \"\", \"zerolinecolor\": \"white\"}, \"yaxis\": {\"backgroundcolor\": \"#E5ECF6\", \"gridcolor\": \"white\", \"gridwidth\": 2, \"linecolor\": \"white\", \"showbackground\": true, \"ticks\": \"\", \"zerolinecolor\": \"white\"}, \"zaxis\": {\"backgroundcolor\": \"#E5ECF6\", \"gridcolor\": \"white\", \"gridwidth\": 2, \"linecolor\": \"white\", \"showbackground\": true, \"ticks\": \"\", \"zerolinecolor\": \"white\"}}, \"shapedefaults\": {\"line\": {\"color\": \"#2a3f5f\"}}, \"ternary\": {\"aaxis\": {\"gridcolor\": \"white\", \"linecolor\": \"white\", \"ticks\": \"\"}, \"baxis\": {\"gridcolor\": \"white\", \"linecolor\": \"white\", \"ticks\": \"\"}, \"bgcolor\": \"#E5ECF6\", \"caxis\": {\"gridcolor\": \"white\", \"linecolor\": \"white\", \"ticks\": \"\"}}, \"title\": {\"x\": 0.05}, \"xaxis\": {\"automargin\": true, \"gridcolor\": \"white\", \"linecolor\": \"white\", \"ticks\": \"\", \"title\": {\"standoff\": 15}, \"zerolinecolor\": \"white\", \"zerolinewidth\": 2}, \"yaxis\": {\"automargin\": true, \"gridcolor\": \"white\", \"linecolor\": \"white\", \"ticks\": \"\", \"title\": {\"standoff\": 15}, \"zerolinecolor\": \"white\", \"zerolinewidth\": 2}}}, \"title\": {\"text\": \"10 days days RUT Forecast\"}, \"width\": 1000, \"xaxis\": {\"linecolor\": \"black\", \"linewidth\": 2, \"mirror\": true, \"showline\": true, \"showspikes\": true}, \"yaxis\": {\"linecolor\": \"black\", \"linewidth\": 2, \"mirror\": true, \"showline\": true, \"showspikes\": true, \"title\": {\"text\": \"RUTC (US$)\"}}},\n",
              "                        {\"responsive\": true}\n",
              "                    ).then(function(){\n",
              "                            \n",
              "var gd = document.getElementById('f417f7af-477c-4037-93b5-391fb6bf1443');\n",
              "var x = new MutationObserver(function (mutations, observer) {{\n",
              "        var display = window.getComputedStyle(gd).display;\n",
              "        if (!display || display === 'none') {{\n",
              "            console.log([gd, 'removed!']);\n",
              "            Plotly.purge(gd);\n",
              "            observer.disconnect();\n",
              "        }}\n",
              "}});\n",
              "\n",
              "// Listen for the removal of the full notebook cells\n",
              "var notebookContainer = gd.closest('#notebook-container');\n",
              "if (notebookContainer) {{\n",
              "    x.observe(notebookContainer, {childList: true});\n",
              "}}\n",
              "\n",
              "// Listen for the clearing of the current output cell\n",
              "var outputEl = gd.closest('.output');\n",
              "if (outputEl) {{\n",
              "    x.observe(outputEl, {childList: true});\n",
              "}}\n",
              "\n",
              "                        })\n",
              "                };\n",
              "                \n",
              "            </script>\n",
              "        </div>\n",
              "</body>\n",
              "</html>"
            ]
          },
          "metadata": {
            "tags": []
          }
        }
      ]
    }
  ]
}